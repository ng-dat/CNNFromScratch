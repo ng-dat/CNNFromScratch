{
 "cells": [
  {
   "cell_type": "markdown",
   "metadata": {
    "id": "BHBn9vdMVNu4"
   },
   "source": [
    "# Problem 2: Incorporating CNNs\n",
    "\n",
    "* Learning Objective: In this problem, you will learn how to deeply understand how Convolutional Neural Networks work by implementing one.\n",
    "* Provided Code: We provide the skeletons of classes you need to complete. Forward checking and gradient checkings are provided for verifying your implementation as well.\n",
    "* TODOs: you will implement a Convolutional Layer and a MaxPooling Layer to improve on your classification results in part 1."
   ]
  },
  {
   "cell_type": "code",
   "execution_count": null,
   "metadata": {
    "colab": {
     "base_uri": "https://localhost:8080/"
    },
    "id": "GVTrp8qwVVIS",
    "outputId": "04dc01e8-9b3e-4284-aa86-ea4238a6aca8"
   },
   "outputs": [
    {
     "name": "stdout",
     "output_type": "stream",
     "text": [
      "Mounted at /content/drive\n"
     ]
    }
   ],
   "source": [
    "from google.colab import drive\n",
    "drive.mount('/content/drive')"
   ]
  },
  {
   "cell_type": "code",
   "execution_count": null,
   "metadata": {
    "colab": {
     "base_uri": "https://localhost:8080/"
    },
    "id": "jVBOHq5VVjkq",
    "outputId": "55f6c257-4286-4c4d-ed54-adc16bd61eb5"
   },
   "outputs": [
    {
     "name": "stdout",
     "output_type": "stream",
     "text": [
      "collectSubmission.sh  get_datasets.sh  Prob2_pytroch.ipynb  Problem_2.ipynb\n",
      "data\t\t      lib\t       Problem_1.ipynb\n"
     ]
    }
   ],
   "source": [
    "import os\n",
    "os.chdir('/content/drive/MyDrive/Colab Notebooks/CSCI566/ass1')\n",
    "!ls"
   ]
  },
  {
   "cell_type": "code",
   "execution_count": null,
   "metadata": {
    "colab": {
     "base_uri": "https://localhost:8080/"
    },
    "id": "86bofO-3VNu7",
    "outputId": "3d64a0d1-4c19-4716-cd33-274b04ecf382"
   },
   "outputs": [
    {
     "name": "stdout",
     "output_type": "stream",
     "text": [
      "The autoreload extension is already loaded. To reload it, use:\n",
      "  %reload_ext autoreload\n"
     ]
    }
   ],
   "source": [
    "from lib.mlp.fully_conn import *\n",
    "from lib.mlp.layer_utils import *\n",
    "from lib.mlp.datasets import *\n",
    "from lib.mlp.train import *\n",
    "from lib.cnn.layer_utils import *\n",
    "from lib.cnn.cnn_models import *\n",
    "from lib.grad_check import *\n",
    "from lib.optim import *\n",
    "import numpy as np\n",
    "import matplotlib.pyplot as plt\n",
    "\n",
    "%matplotlib inline\n",
    "plt.rcParams['figure.figsize'] = (10.0, 8.0) # set default size of plots\n",
    "plt.rcParams['image.interpolation'] = 'nearest'\n",
    "plt.rcParams['image.cmap'] = 'gray'\n",
    "\n",
    "# for auto-reloading external modules\n",
    "# see http://stackoverflow.com/questions/1907993/autoreload-of-modules-in-ipython\n",
    "%load_ext autoreload\n",
    "%autoreload 2"
   ]
  },
  {
   "cell_type": "markdown",
   "metadata": {
    "id": "1zBlGCcwVNu9"
   },
   "source": [
    "## Loading the data (SVHN)\n",
    "Run the following code block to download SVHN dataset and load in the properly splitted SVHN data. The script `get_datasets.sh` use `wget` to download the SVHN dataset. If you have a trouble with executing `get_datasets.sh`, you can manually download the dataset and extract files."
   ]
  },
  {
   "cell_type": "code",
   "execution_count": null,
   "metadata": {
    "colab": {
     "base_uri": "https://localhost:8080/"
    },
    "id": "oPmGF2NJVNu9",
    "outputId": "ec949845-a6f9-4d38-f8ea-bb780ac9d9f5"
   },
   "outputs": [
    {
     "name": "stdout",
     "output_type": "stream",
     "text": [
      "/bin/bash: ./get_datasets.sh: Permission denied\n"
     ]
    }
   ],
   "source": [
    "!./get_datasets.sh\n",
    "# !get_datasets.sh for windows users"
   ]
  },
  {
   "cell_type": "code",
   "execution_count": null,
   "metadata": {
    "colab": {
     "base_uri": "https://localhost:8080/"
    },
    "id": "GqbMvx6jVNu-",
    "outputId": "3c2dc4c8-75d2-4b37-d2fa-306823969d22"
   },
   "outputs": [
    {
     "name": "stdout",
     "output_type": "stream",
     "text": [
      "Name: data_train Shape: (70000, 32, 32, 3)\n",
      "Name: labels_train Shape: (70000,)\n",
      "Name: data_val Shape: (3257, 32, 32, 3)\n",
      "Name: labels_val Shape: (3257,)\n",
      "Name: data_test Shape: (26032, 32, 32, 3)\n",
      "Name: labels_test Shape: (26032,)\n"
     ]
    }
   ],
   "source": [
    "data = SVHN_data()\n",
    "for k, v in data.items():\n",
    "    print (\"Name: {} Shape: {}\".format(k, v.shape))"
   ]
  },
  {
   "cell_type": "markdown",
   "metadata": {
    "id": "gCUzguaeVNu-"
   },
   "source": [
    "## Convolutional Neural Networks\n",
    "\n",
    "We will use convolutional neural networks to try to improve on the results from Problem 1. Convolutional layers make the assumption that local pixels are more important for prediction than far-away pixels. This allows us to form networks that are robust to small changes in positioning in images.\n",
    "\n",
    "### Convolutional Layer Output size calculation [2pts]\n",
    "\n",
    "As you have learned, two important parameters of a convolutional layer are its stride and padding. To warm up, we will need to calculate the output size of a convolutional layer given its stride and padding. To do this, open the `lib/cnn/layer_utils.py` file and fill out the TODO section in the `get_output_size` function in the ConvLayer2D class. \n",
    "\n",
    "Implement your function so that it returns the correct size as indicated by the block below."
   ]
  },
  {
   "cell_type": "code",
   "execution_count": null,
   "metadata": {
    "colab": {
     "base_uri": "https://localhost:8080/"
    },
    "id": "00wGV9IfVNu_",
    "outputId": "5b0fde69-6d16-46d3-f89e-ab07ff336296"
   },
   "outputs": [
    {
     "name": "stdout",
     "output_type": "stream",
     "text": [
      "Received [32, 16, 16, 16] and expected [32, 16, 16, 16]\n"
     ]
    }
   ],
   "source": [
    "%reload_ext autoreload\n",
    "\n",
    "input_image = np.zeros([32, 28, 28, 3]) # a stack of 32 28 by 28 rgb images\n",
    "\n",
    "in_channels = input_image.shape[-1] #must agree with the last dimension of the input image\n",
    "k_size = 4 \n",
    "n_filt = 16\n",
    "\n",
    "conv_layer = ConvLayer2D(in_channels, k_size, n_filt, stride=2, padding=3)\n",
    "output_size = conv_layer.get_output_size(input_image.shape) \n",
    "\n",
    "print(\"Received {} and expected [32, 16, 16, 16]\".format(output_size))"
   ]
  },
  {
   "cell_type": "markdown",
   "metadata": {
    "id": "OKnRuB4pVNu_"
   },
   "source": [
    "### Convolutional Layer Forward Pass [5pts]\n",
    "\n",
    "Now, we will implement the forward pass of a convolutional layer. Fill in the TODO block in the `forward` function of the ConvLayer2D class."
   ]
  },
  {
   "cell_type": "code",
   "execution_count": null,
   "metadata": {
    "colab": {
     "base_uri": "https://localhost:8080/"
    },
    "id": "WHXgLm--VNu_",
    "outputId": "9661418b-1e00-44af-f089-73e417293745"
   },
   "outputs": [
    {
     "name": "stdout",
     "output_type": "stream",
     "text": [
      "Received output shape: (1, 4, 4, 2), Expected output shape: (1, 4, 4, 2)\n",
      "Difference:  5.110565335399418e-08\n"
     ]
    }
   ],
   "source": [
    "%reload_ext autoreload\n",
    "\n",
    "# Test the convolutional forward function\n",
    "input_image = np.linspace(-0.1, 0.4, num=1*8*8*1).reshape([1, 8, 8, 1]) # a single 8 by 8 grayscale image\n",
    "in_channels, k_size, n_filt = 1, 5, 2\n",
    "\n",
    "weight_size = k_size*k_size*in_channels*n_filt\n",
    "bias_size = n_filt\n",
    "\n",
    "\n",
    "\n",
    "single_conv = ConvLayer2D(in_channels, k_size, n_filt, stride=1, padding=0, name=\"conv_test\")\n",
    "\n",
    "w = np.linspace(-0.2, 0.2, num=weight_size).reshape(k_size, k_size, in_channels, n_filt)\n",
    "b = np.linspace(-0.3, 0.3, num=bias_size)\n",
    "\n",
    "single_conv.params[single_conv.w_name] = w\n",
    "single_conv.params[single_conv.b_name] = b\n",
    "\n",
    "out = single_conv.forward(input_image)\n",
    "\n",
    "print(\"Received output shape: {}, Expected output shape: (1, 4, 4, 2)\".format(out.shape))\n",
    "\n",
    "correct_out = np.array([[\n",
    "   [[-0.03874312, 0.57000324],\n",
    "   [-0.03955296, 0.57081309],\n",
    "   [-0.04036281, 0.57162293],\n",
    "   [-0.04117266, 0.57243278]],\n",
    "\n",
    "  [[-0.0452219, 0.57648202],\n",
    "   [-0.04603175, 0.57729187],\n",
    "   [-0.04684159, 0.57810172],\n",
    "   [-0.04765144, 0.57891156]],\n",
    "\n",
    "  [[-0.05170068, 0.5829608 ],\n",
    "   [-0.05251053, 0.58377065],\n",
    "   [-0.05332038, 0.5845805 ],\n",
    "   [-0.05413022, 0.58539035]],\n",
    "\n",
    "  [[-0.05817946, 0.58943959],\n",
    "   [-0.05898931, 0.59024943],\n",
    "   [-0.05979916, 0.59105928],\n",
    "   [-0.06060901, 0.59186913]]]])\n",
    "\n",
    "# Compare your output with the above pre-computed ones. \n",
    "# The difference should not be larger than 1e-8\n",
    "print (\"Difference: \", rel_error(out, correct_out))"
   ]
  },
  {
   "cell_type": "markdown",
   "metadata": {
    "id": "PFcA1GIsVNvA"
   },
   "source": [
    "### Conv Layer Backward [5pts]\n",
    "\n",
    "Now complete the backward pass of a convolutional layer. Fill in the TODO block in the `backward` function of the ConvLayer2D class. Check you results with this code and expect differences of less than 1e-6."
   ]
  },
  {
   "cell_type": "code",
   "execution_count": null,
   "metadata": {
    "colab": {
     "base_uri": "https://localhost:8080/"
    },
    "id": "ceMAfcE3VNvB",
    "outputId": "bc86f0dc-8c97-42d4-951c-2280e47f5e38"
   },
   "outputs": [
    {
     "name": "stdout",
     "output_type": "stream",
     "text": [
      "dimg Error:  9.103516884724257e-09\n",
      "dw Error:  3.99029764803494e-09\n",
      "db Error:  1.3057300254184384e-10\n",
      "dimg Shape:  (15, 8, 8, 3) (15, 8, 8, 3)\n"
     ]
    }
   ],
   "source": [
    "%reload_ext autoreload\n",
    "\n",
    "# Test the conv backward function\n",
    "img = np.random.randn(15, 8, 8, 3)\n",
    "w = np.random.randn(4, 4, 3, 12)\n",
    "b = np.random.randn(12)\n",
    "dout = np.random.randn(15, 4, 4, 12)\n",
    "\n",
    "single_conv = ConvLayer2D(input_channels=3, kernel_size=4, number_filters=12, stride=2, padding=1, name=\"conv_test\")\n",
    "single_conv.params[single_conv.w_name] = w\n",
    "single_conv.params[single_conv.b_name] = b\n",
    "dimg_num = eval_numerical_gradient_array(lambda x: single_conv.forward(img), img, dout)\n",
    "dw_num = eval_numerical_gradient_array(lambda w: single_conv.forward(img), w, dout)\n",
    "db_num = eval_numerical_gradient_array(lambda b: single_conv.forward(img), b, dout)\n",
    "out = single_conv.forward(img)\n",
    "\n",
    "dimg = single_conv.backward(dout)\n",
    "dw = single_conv.grads[single_conv.w_name]\n",
    "db = single_conv.grads[single_conv.b_name]\n",
    "\n",
    "# The error should be around 1e-8\n",
    "print(\"dimg Error: \", rel_error(dimg_num, dimg))\n",
    "# The errors should be around 1e-8\n",
    "print(\"dw Error: \", rel_error(dw_num, dw))\n",
    "print(\"db Error: \", rel_error(db_num, db))\n",
    "# The shapes should be same\n",
    "print(\"dimg Shape: \", dimg.shape, img.shape)"
   ]
  },
  {
   "cell_type": "markdown",
   "metadata": {
    "id": "Qsfa0QlZVNvB"
   },
   "source": [
    "## Max pooling Layer\n",
    "Now we will implement maxpooling layers, which can help to reduce the image size while preserving the overall structure of the image.\n",
    "\n",
    "### Forward Pass max pooling [5pts]\n",
    "Fill out the TODO block in the `forward` function of the MaxPoolingLayer class."
   ]
  },
  {
   "cell_type": "code",
   "execution_count": null,
   "metadata": {
    "colab": {
     "base_uri": "https://localhost:8080/"
    },
    "id": "dYYyXcrzVNvC",
    "outputId": "ed4001c5-a106-4ebc-fcc2-14a8db667b63"
   },
   "outputs": [
    {
     "name": "stdout",
     "output_type": "stream",
     "text": [
      "Received output shape: (1, 3, 3, 1), Expected output shape: (1, 3, 3, 1)\n",
      "Difference:  1.8750000280978013e-08\n"
     ]
    }
   ],
   "source": [
    "# Test the convolutional forward function\n",
    "input_image = np.linspace(-0.1, 0.4, num=64).reshape([1, 8, 8, 1]) # a single 8 by 8 grayscale image\n",
    "\n",
    "maxpool= MaxPoolingLayer(pool_size=4, stride=2, name=\"maxpool_test\")\n",
    "out = maxpool.forward(input_image)\n",
    "\n",
    "print(\"Received output shape: {}, Expected output shape: (1, 3, 3, 1)\".format(out.shape))\n",
    "\n",
    "correct_out = np.array([[\n",
    "   [[0.11428571],\n",
    "   [0.13015873],\n",
    "   [0.14603175]],\n",
    "\n",
    "  [[0.24126984],\n",
    "   [0.25714286],\n",
    "   [0.27301587]],\n",
    "\n",
    "  [[0.36825397],\n",
    "   [0.38412698],\n",
    "   [0.4       ]]]])\n",
    "\n",
    "# Compare your output with the above pre-computed ones. \n",
    "# The difference should not be larger than 1e-8\n",
    "print (\"Difference: \", rel_error(out, correct_out))"
   ]
  },
  {
   "cell_type": "markdown",
   "metadata": {
    "id": "X2SG-L68VNvC"
   },
   "source": [
    "### Backward Pass Max pooling [5pts]\n",
    "Fill out the `backward` function in the MaxPoolingLayer class."
   ]
  },
  {
   "cell_type": "code",
   "execution_count": null,
   "metadata": {
    "colab": {
     "base_uri": "https://localhost:8080/"
    },
    "id": "ZNgfhvygVNvD",
    "outputId": "40f096cc-6048-44e5-e6b9-3f7c6713abcd"
   },
   "outputs": [
    {
     "name": "stdout",
     "output_type": "stream",
     "text": [
      "dimg Error:  3.276958555833593e-12\n",
      "dimg Shape:  (15, 8, 8, 3) (15, 8, 8, 3)\n"
     ]
    }
   ],
   "source": [
    "img = np.random.randn(15, 8, 8, 3)\n",
    "\n",
    "dout = np.random.randn(15, 3, 3, 3)\n",
    "\n",
    "maxpool= MaxPoolingLayer(pool_size=4, stride=2, name=\"maxpool_test\")\n",
    "\n",
    "dimg_num = eval_numerical_gradient_array(lambda x: maxpool.forward(img), img, dout)\n",
    "\n",
    "out = maxpool.forward(img)\n",
    "dimg = maxpool.backward(dout)\n",
    "\n",
    "# The error should be around 1e-8\n",
    "print(\"dimg Error: \", rel_error(dimg_num, dimg))\n",
    "# The shapes should be same\n",
    "print(\"dimg Shape: \", dimg.shape, img.shape)"
   ]
  },
  {
   "cell_type": "markdown",
   "metadata": {
    "id": "jHpSWopfVNvD"
   },
   "source": [
    "### Test a Small Fully Connected Network [3pts]\n",
    "Please find the `TestCNN` class in `lib/cnn/cnn_models.py`.\n",
    "Again you only need to complete few lines of code in the TODO block.\n",
    "Please design a Convolutional --> Maxpool --> flatten --> fc network where the shapes of parameters match the given shapes.\n",
    "Please insert the corresponding names you defined for each layer to param_name_w, and param_name_b respectively.\n",
    "Here you only modify the param_name part, the _w, and _b are automatically assigned during network setup."
   ]
  },
  {
   "cell_type": "code",
   "execution_count": null,
   "metadata": {
    "colab": {
     "base_uri": "https://localhost:8080/"
    },
    "id": "P-lNOioLVNvE",
    "outputId": "713b4f01-ff69-4e1d-af46-a6ccb72b4674"
   },
   "outputs": [
    {
     "name": "stdout",
     "output_type": "stream",
     "text": [
      "Testing initialization ... \n",
      "Passed!\n",
      "Testing test-time forward pass ... \n",
      "Passed!\n",
      "Testing the loss ...\n",
      "Passed!\n",
      "Testing the gradients (error should be no larger than 1e-6) ...\n",
      "conv_b relative error: 3.90e-09\n",
      "conv_w relative error: 8.59e-10\n",
      "fc_b relative error: 8.77e-11\n",
      "fc_w relative error: 3.83e-07\n"
     ]
    }
   ],
   "source": [
    "%reload_ext autoreload\n",
    "\n",
    "seed = 1234\n",
    "np.random.seed(seed=seed)\n",
    "\n",
    "model = TestCNN()\n",
    "loss_func = cross_entropy()\n",
    "\n",
    "B, H, W, iC = 4, 8, 8, 3 #batch, height, width, in_channels\n",
    "k = 3 #kernel size\n",
    "oC, Hi, O = 3, 27, 5 # out channels, Hidden Layer input, Output size\n",
    "std = 0.02\n",
    "x = np.random.randn(B,H,W,iC)\n",
    "y = np.random.randint(O, size=B)\n",
    "\n",
    "print (\"Testing initialization ... \")\n",
    "\n",
    "###################################################\n",
    "# TODO: param_name should be replaced accordingly  #\n",
    "###################################################\n",
    "w1_std = abs(model.net.get_params(\"conv_w\").std() - std)\n",
    "b1 = model.net.get_params(\"conv_b\").std()\n",
    "w2_std = abs(model.net.get_params(\"fc_w\").std() - std)\n",
    "b2 = model.net.get_params(\"fc_b\").std()\n",
    "###################################################\n",
    "#                END OF YOUR CODE                 #\n",
    "###################################################\n",
    "\n",
    "assert w1_std < std / 10, \"First layer weights do not seem right\"\n",
    "assert np.all(b1 == 0), \"First layer biases do not seem right\"\n",
    "assert w2_std < std / 10, \"Second layer weights do not seem right\"\n",
    "assert np.all(b2 == 0), \"Second layer biases do not seem right\"\n",
    "print (\"Passed!\")\n",
    "\n",
    "print (\"Testing test-time forward pass ... \")\n",
    "w1 = np.linspace(-0.7, 0.3, num=k*k*iC*oC).reshape(k,k,iC,oC)\n",
    "w2 = np.linspace(-0.2, 0.2, num=Hi*O).reshape(Hi, O)\n",
    "b1 = np.linspace(-0.6, 0.2, num=oC)\n",
    "b2 = np.linspace(-0.9, 0.1, num=O)\n",
    "\n",
    "###################################################\n",
    "# TODO: param_name should be replaced accordingly  #\n",
    "###################################################\n",
    "model.net.assign(\"conv_w\", w1)\n",
    "model.net.assign(\"conv_b\", b1)\n",
    "model.net.assign(\"fc_w\", w2)\n",
    "model.net.assign(\"fc_b\", b2)\n",
    "###################################################\n",
    "#                END OF YOUR CODE                 #\n",
    "###################################################\n",
    "\n",
    "feats = np.linspace(-5.5, 4.5, num=B*H*W*iC).reshape(B,H,W,iC)\n",
    "scores = model.forward(feats)\n",
    "correct_scores = np.asarray([[-13.85107294, -11.52845818,  -9.20584342,  -6.88322866,  -4.5606139 ],\n",
    " [-11.44514171, -10.21200524 , -8.97886878 , -7.74573231 , -6.51259584],\n",
    " [ -9.03921048,  -8.89555231 , -8.75189413 , -8.60823596,  -8.46457778],\n",
    " [ -6.63327925 , -7.57909937 , -8.52491949 , -9.4707396 , -10.41655972]])\n",
    "scores_diff = np.sum(np.abs(scores - correct_scores))\n",
    "assert scores_diff < 1e-6, \"Your implementation might be wrong!\"\n",
    "print (\"Passed!\")\n",
    "\n",
    "print (\"Testing the loss ...\",)\n",
    "y = np.asarray([0, 2, 1, 4])\n",
    "loss = loss_func.forward(scores, y)\n",
    "dLoss = loss_func.backward()\n",
    "correct_loss = 4.56046848799693\n",
    "assert abs(loss - correct_loss) < 1e-10, \"Your implementation might be wrong!\"\n",
    "print (\"Passed!\")\n",
    "\n",
    "print (\"Testing the gradients (error should be no larger than 1e-6) ...\")\n",
    "din = model.backward(dLoss)\n",
    "for layer in model.net.layers:\n",
    "    if not layer.params:\n",
    "        continue\n",
    "    for name in sorted(layer.grads):\n",
    "        f = lambda _: loss_func.forward(model.forward(feats), y)\n",
    "        grad_num = eval_numerical_gradient(f, layer.params[name], verbose=False)\n",
    "        print ('%s relative error: %.2e' % (name, rel_error(grad_num, layer.grads[name])))"
   ]
  },
  {
   "cell_type": "markdown",
   "metadata": {
    "id": "HIqYocjyVNvF"
   },
   "source": [
    "### Training the Network [25pts]\n",
    "In this section, we defined a `SmallConvolutionalNetwork` class for you to fill in the TODO block in `lib/cnn/cnn_models.py`.\n",
    "\n",
    "Here please design a network with at most two convolutions and two maxpooling layers (you may use less).\n",
    "You can adjust the parameters for any layer, and include layers other than those listed above that you have implemented.\n",
    "You are also free to select any optimizer you have implemented (with any learning rate).\n",
    "\n",
    "Try to find a combination that is able to achieve 88% validation accuracy."
   ]
  },
  {
   "cell_type": "code",
   "execution_count": null,
   "metadata": {
    "id": "fzJbfNEMVNvF"
   },
   "outputs": [],
   "source": [
    "# Arrange the data\n",
    "data_dict = {\n",
    "    \"data_train\": (data[\"data_train\"], data[\"labels_train\"]),\n",
    "    \"data_val\": (data[\"data_val\"], data[\"labels_val\"]),\n",
    "    \"data_test\": (data[\"data_test\"], data[\"labels_test\"])\n",
    "}"
   ]
  },
  {
   "cell_type": "code",
   "execution_count": null,
   "metadata": {
    "colab": {
     "base_uri": "https://localhost:8080/"
    },
    "id": "cv0XPqprVNvG",
    "outputId": "ba184802-5ead-4a1a-9f3f-b1bdbdb735c7"
   },
   "outputs": [
    {
     "name": "stdout",
     "output_type": "stream",
     "text": [
      "Data shape: (70000, 32, 32, 3)\n",
      "Flattened data input size: 3072\n",
      "Number of data classes: 10\n"
     ]
    }
   ],
   "source": [
    "print(\"Data shape:\", data_dict[\"data_train\"][0].shape)\n",
    "print(\"Flattened data input size:\", np.prod(data[\"data_train\"].shape[1:]))\n",
    "print(\"Number of data classes:\", max(data['labels_train']) + 1)"
   ]
  },
  {
   "cell_type": "code",
   "execution_count": null,
   "metadata": {
    "colab": {
     "base_uri": "https://localhost:8080/"
    },
    "id": "F6oC0feiVNvG",
    "outputId": "1dedfc55-0efd-4bf9-ce61-170ca08bea16"
   },
   "outputs": [
    {
     "name": "stdout",
     "output_type": "stream",
     "text": [
      "(Iteration 1 / 1400) loss: 2.3026382135665133\n",
      "(Iteration 6 / 1400) loss: 2.279317000462457\n",
      "(Iteration 11 / 1400) loss: 2.2518069367524665\n",
      "(Iteration 16 / 1400) loss: 2.3466251363396267\n",
      "(Iteration 21 / 1400) loss: 2.3147365058049947\n",
      "(Iteration 26 / 1400) loss: 2.2953757357391567\n",
      "(Iteration 31 / 1400) loss: 2.244714578229816\n",
      "(Iteration 36 / 1400) loss: 2.217589575165692\n",
      "(Iteration 41 / 1400) loss: 2.224053049916232\n",
      "(Iteration 46 / 1400) loss: 2.175671298599683\n",
      "(Iteration 51 / 1400) loss: 2.1223038187526346\n",
      "(Iteration 56 / 1400) loss: 2.0239926138473585\n",
      "(Iteration 61 / 1400) loss: 1.9650466691600972\n",
      "(Iteration 66 / 1400) loss: 2.0429458998053325\n",
      "(Iteration 71 / 1400) loss: 1.9334334881237358\n",
      "(Iteration 76 / 1400) loss: 1.750587841948052\n",
      "(Iteration 81 / 1400) loss: 1.7419750880836604\n",
      "(Iteration 86 / 1400) loss: 1.5406193197286833\n",
      "(Iteration 91 / 1400) loss: 1.5437844260756939\n",
      "(Iteration 96 / 1400) loss: 1.7335022218824647\n",
      "(Iteration 101 / 1400) loss: 1.221563868582737\n",
      "(Iteration 106 / 1400) loss: 1.4611510907199448\n",
      "(Iteration 111 / 1400) loss: 1.3812155555535364\n",
      "(Iteration 116 / 1400) loss: 1.3806032953323928\n",
      "(Iteration 121 / 1400) loss: 1.1232270777297453\n",
      "(Iteration 126 / 1400) loss: 1.0132300444274183\n",
      "(Iteration 131 / 1400) loss: 1.1210475161424551\n",
      "(Iteration 136 / 1400) loss: 1.012763368692043\n",
      "(Iteration 141 / 1400) loss: 0.9985955085901699\n",
      "(Iteration 146 / 1400) loss: 1.305031413926857\n",
      "(Iteration 151 / 1400) loss: 0.9391322371168513\n",
      "(Iteration 156 / 1400) loss: 1.129075171108009\n",
      "(Iteration 161 / 1400) loss: 0.9171182410033061\n",
      "(Iteration 166 / 1400) loss: 0.9941553782796241\n",
      "(Iteration 171 / 1400) loss: 1.0936571121903649\n",
      "(Iteration 176 / 1400) loss: 0.5924801061830357\n",
      "(Iteration 181 / 1400) loss: 0.9810444803598916\n",
      "(Iteration 186 / 1400) loss: 0.7623587527951944\n",
      "(Iteration 191 / 1400) loss: 0.7139913566399438\n",
      "(Iteration 196 / 1400) loss: 0.8122403994994651\n",
      "(Iteration 201 / 1400) loss: 1.0193542054964164\n",
      "(Iteration 206 / 1400) loss: 0.7735228781254903\n",
      "(Iteration 211 / 1400) loss: 0.9899686195193496\n",
      "(Iteration 216 / 1400) loss: 0.8408096290557785\n",
      "(Iteration 221 / 1400) loss: 0.7702749884140668\n",
      "(Iteration 226 / 1400) loss: 0.5934940766698021\n",
      "(Iteration 231 / 1400) loss: 0.8119974499792755\n",
      "(Iteration 236 / 1400) loss: 0.7750314101134707\n",
      "(Iteration 241 / 1400) loss: 0.8412715157454038\n",
      "(Iteration 246 / 1400) loss: 0.8311332777081283\n",
      "(Iteration 251 / 1400) loss: 0.9253926691208756\n",
      "(Iteration 256 / 1400) loss: 0.9490227607468504\n",
      "(Iteration 261 / 1400) loss: 0.7362884351686616\n",
      "(Iteration 266 / 1400) loss: 0.7197801525794822\n",
      "(Iteration 271 / 1400) loss: 0.6072114765399692\n",
      "(Iteration 276 / 1400) loss: 0.6112560937070451\n",
      "(Iteration 281 / 1400) loss: 0.8031014474811111\n",
      "(Iteration 286 / 1400) loss: 1.098436624811045\n",
      "(Iteration 291 / 1400) loss: 0.7274670937399087\n",
      "(Iteration 296 / 1400) loss: 0.7445066025689845\n",
      "(Iteration 301 / 1400) loss: 0.9022548514420494\n",
      "(Iteration 306 / 1400) loss: 0.9381143114411777\n",
      "(Iteration 311 / 1400) loss: 0.7575579966547353\n",
      "(Iteration 316 / 1400) loss: 0.5189500770769988\n",
      "(Iteration 321 / 1400) loss: 0.7243950729721017\n",
      "(Iteration 326 / 1400) loss: 0.8007375378040491\n",
      "(Iteration 331 / 1400) loss: 0.9784540345570452\n",
      "(Iteration 336 / 1400) loss: 0.47766332785442545\n",
      "(Iteration 341 / 1400) loss: 0.706251918811527\n",
      "(Iteration 346 / 1400) loss: 0.8456601182479497\n",
      "(Iteration 351 / 1400) loss: 0.6723261421939105\n",
      "(Iteration 356 / 1400) loss: 0.9326077062475477\n",
      "(Iteration 361 / 1400) loss: 0.6597379236509552\n",
      "(Iteration 366 / 1400) loss: 0.6823386466926283\n",
      "(Iteration 371 / 1400) loss: 0.7598921584216458\n",
      "(Iteration 376 / 1400) loss: 0.6190330620065617\n",
      "(Iteration 381 / 1400) loss: 0.5449144993870816\n",
      "(Iteration 386 / 1400) loss: 0.7312972226385548\n",
      "(Iteration 391 / 1400) loss: 0.5096106744053187\n",
      "(Iteration 396 / 1400) loss: 1.0775139748977345\n",
      "(Iteration 401 / 1400) loss: 0.3801464184166944\n",
      "(Iteration 406 / 1400) loss: 0.9435301900652665\n",
      "(Iteration 411 / 1400) loss: 0.5787391840595775\n",
      "(Iteration 416 / 1400) loss: 0.7399715377834061\n",
      "(Iteration 421 / 1400) loss: 0.6447292787850297\n",
      "(Iteration 426 / 1400) loss: 0.8472782076267055\n",
      "(Iteration 431 / 1400) loss: 0.6277961440677989\n",
      "(Iteration 436 / 1400) loss: 0.8047774095823926\n",
      "(Iteration 441 / 1400) loss: 0.6536175060143531\n",
      "(Iteration 446 / 1400) loss: 0.7654191626610621\n",
      "(Iteration 451 / 1400) loss: 0.7183604073949279\n",
      "(Iteration 456 / 1400) loss: 0.47702831397094675\n",
      "(Iteration 461 / 1400) loss: 0.635370120401243\n",
      "(Iteration 466 / 1400) loss: 0.607438115907637\n",
      "(Iteration 471 / 1400) loss: 0.4621538021865748\n",
      "(Iteration 476 / 1400) loss: 0.7923345627571631\n",
      "(Iteration 481 / 1400) loss: 0.5955180250378018\n",
      "(Iteration 486 / 1400) loss: 0.6299047617411613\n",
      "(Iteration 491 / 1400) loss: 0.6780355722384859\n",
      "(Iteration 496 / 1400) loss: 0.7555271284728748\n",
      "(Iteration 501 / 1400) loss: 0.8533866132634007\n",
      "(Iteration 506 / 1400) loss: 0.3250700823050743\n",
      "(Iteration 511 / 1400) loss: 0.489450954195658\n",
      "(Iteration 516 / 1400) loss: 0.48475841195274616\n",
      "(Iteration 521 / 1400) loss: 0.689640745425717\n",
      "(Iteration 526 / 1400) loss: 0.547320445714345\n",
      "(Iteration 531 / 1400) loss: 0.6349639021317857\n",
      "(Iteration 536 / 1400) loss: 0.5528198208190234\n",
      "(Iteration 541 / 1400) loss: 0.5512844152700676\n",
      "(Iteration 546 / 1400) loss: 0.6496075796371714\n",
      "(Iteration 551 / 1400) loss: 0.5630168203945353\n",
      "(Iteration 556 / 1400) loss: 0.5353087490589253\n",
      "(Iteration 561 / 1400) loss: 0.6635640568716432\n",
      "(Iteration 566 / 1400) loss: 0.7408266253080569\n",
      "(Iteration 571 / 1400) loss: 0.5980078266334359\n",
      "(Iteration 576 / 1400) loss: 0.4892380561725773\n",
      "(Iteration 581 / 1400) loss: 0.7698765915917716\n",
      "(Iteration 586 / 1400) loss: 0.6552789798958988\n",
      "(Iteration 591 / 1400) loss: 0.7955250018364148\n",
      "(Iteration 596 / 1400) loss: 0.4960850039357581\n",
      "(Iteration 601 / 1400) loss: 0.5840926733366222\n",
      "(Iteration 606 / 1400) loss: 0.784613076209521\n",
      "(Iteration 611 / 1400) loss: 0.7721762691048073\n",
      "(Iteration 616 / 1400) loss: 0.5946018356713705\n",
      "(Iteration 621 / 1400) loss: 0.4179539428030585\n",
      "(Iteration 626 / 1400) loss: 0.5803180215480472\n",
      "(Iteration 631 / 1400) loss: 0.5037611044393155\n",
      "(Iteration 636 / 1400) loss: 1.0595015381393398\n",
      "(Iteration 641 / 1400) loss: 0.7938297183286361\n",
      "(Iteration 646 / 1400) loss: 0.8496115722367367\n",
      "(Iteration 651 / 1400) loss: 0.6915172729027875\n",
      "(Iteration 656 / 1400) loss: 0.7180208122055177\n",
      "(Iteration 661 / 1400) loss: 0.6628672075886753\n",
      "(Iteration 666 / 1400) loss: 0.6373502279039329\n",
      "(Iteration 671 / 1400) loss: 0.9401648896844929\n",
      "(Iteration 676 / 1400) loss: 0.3592930866476793\n",
      "(Iteration 681 / 1400) loss: 0.6403588382896914\n",
      "(Iteration 686 / 1400) loss: 0.7330747298109124\n",
      "(Iteration 691 / 1400) loss: 0.5259638934030331\n",
      "(Iteration 696 / 1400) loss: 0.9389754406564164\n",
      "(Epoch 1 / 2) Training Accuracy: 0.8405, Validation Accuracy: 0.8142462388701259\n",
      "Decaying learning rate of the optimizer to 0.006\n",
      "(Iteration 701 / 1400) loss: 0.5787520568641061\n",
      "(Iteration 706 / 1400) loss: 0.39059970029324037\n",
      "(Iteration 711 / 1400) loss: 0.3596469545487004\n",
      "(Iteration 716 / 1400) loss: 0.49125299025658264\n",
      "(Iteration 721 / 1400) loss: 0.3239510298754166\n",
      "(Iteration 726 / 1400) loss: 0.3849086457333963\n",
      "(Iteration 731 / 1400) loss: 0.6687206556766706\n",
      "(Iteration 736 / 1400) loss: 0.3099717939893092\n",
      "(Iteration 741 / 1400) loss: 0.4829040212679119\n",
      "(Iteration 746 / 1400) loss: 0.47546441700900793\n",
      "(Iteration 751 / 1400) loss: 0.4567266168575098\n",
      "(Iteration 756 / 1400) loss: 0.8181062590307913\n",
      "(Iteration 761 / 1400) loss: 0.4281682252606058\n",
      "(Iteration 766 / 1400) loss: 0.4077641425980195\n",
      "(Iteration 771 / 1400) loss: 0.5356189201167534\n",
      "(Iteration 776 / 1400) loss: 0.5574933535138583\n",
      "(Iteration 781 / 1400) loss: 0.45644124254951246\n",
      "(Iteration 786 / 1400) loss: 0.5513511760032371\n",
      "(Iteration 791 / 1400) loss: 0.356280025999926\n",
      "(Iteration 796 / 1400) loss: 0.5231591209642008\n",
      "(Iteration 801 / 1400) loss: 0.35947623767724596\n",
      "(Iteration 806 / 1400) loss: 0.3245180679832601\n",
      "(Iteration 811 / 1400) loss: 0.21760423010084892\n",
      "(Iteration 816 / 1400) loss: 0.491612893724331\n",
      "(Iteration 821 / 1400) loss: 0.7045398498584119\n",
      "(Iteration 826 / 1400) loss: 0.5817151740228049\n",
      "(Iteration 831 / 1400) loss: 0.3899608798230914\n",
      "(Iteration 836 / 1400) loss: 0.5331256090330395\n",
      "(Iteration 841 / 1400) loss: 0.42809444837652033\n",
      "(Iteration 846 / 1400) loss: 0.47041945151045356\n",
      "(Iteration 851 / 1400) loss: 0.5665772167381238\n",
      "(Iteration 856 / 1400) loss: 0.6505744652383525\n",
      "(Iteration 861 / 1400) loss: 0.45334437990696214\n",
      "(Iteration 866 / 1400) loss: 0.48667160681719573\n",
      "(Iteration 871 / 1400) loss: 0.48335341349018035\n",
      "(Iteration 876 / 1400) loss: 0.3147077895257315\n",
      "(Iteration 881 / 1400) loss: 0.4541184383364207\n",
      "(Iteration 886 / 1400) loss: 0.5510102802118856\n",
      "(Iteration 891 / 1400) loss: 0.49075199948160586\n",
      "(Iteration 896 / 1400) loss: 0.3023968296835938\n",
      "(Iteration 901 / 1400) loss: 0.5149035116593904\n",
      "(Iteration 906 / 1400) loss: 0.6461607507110456\n",
      "(Iteration 911 / 1400) loss: 0.4450717982283333\n",
      "(Iteration 916 / 1400) loss: 0.3408768515428513\n",
      "(Iteration 921 / 1400) loss: 0.5260785262190497\n",
      "(Iteration 926 / 1400) loss: 0.5534679947967781\n",
      "(Iteration 931 / 1400) loss: 0.4729807112657277\n",
      "(Iteration 936 / 1400) loss: 0.42920631031894724\n",
      "(Iteration 941 / 1400) loss: 0.4955369138154122\n",
      "(Iteration 946 / 1400) loss: 0.5159189292364098\n",
      "(Iteration 951 / 1400) loss: 0.6239651025217475\n",
      "(Iteration 956 / 1400) loss: 0.6315735783869547\n",
      "(Iteration 961 / 1400) loss: 0.45584938544826387\n",
      "(Iteration 966 / 1400) loss: 0.5852394889218222\n",
      "(Iteration 971 / 1400) loss: 0.502111718626393\n",
      "(Iteration 976 / 1400) loss: 0.40450994962171344\n",
      "(Iteration 981 / 1400) loss: 0.6107708514287297\n",
      "(Iteration 986 / 1400) loss: 0.5810824751894672\n",
      "(Iteration 991 / 1400) loss: 0.48076392103461807\n",
      "(Iteration 996 / 1400) loss: 0.4880202184185837\n",
      "(Iteration 1001 / 1400) loss: 0.6495032219580037\n",
      "(Iteration 1006 / 1400) loss: 0.4622059559925061\n",
      "(Iteration 1011 / 1400) loss: 0.4453093835815413\n",
      "(Iteration 1016 / 1400) loss: 0.5908754923758284\n",
      "(Iteration 1021 / 1400) loss: 0.5122438506686743\n",
      "(Iteration 1026 / 1400) loss: 0.4616938883704387\n",
      "(Iteration 1031 / 1400) loss: 0.45667231187498136\n",
      "(Iteration 1036 / 1400) loss: 0.3955599939946333\n",
      "(Iteration 1041 / 1400) loss: 0.625299201785049\n",
      "(Iteration 1046 / 1400) loss: 0.47507376649657673\n",
      "(Iteration 1051 / 1400) loss: 0.30283540195719666\n",
      "(Iteration 1056 / 1400) loss: 0.43719768889497346\n",
      "(Iteration 1061 / 1400) loss: 0.3424931442506742\n",
      "(Iteration 1066 / 1400) loss: 0.505748943683723\n",
      "(Iteration 1071 / 1400) loss: 0.47389107581249745\n",
      "(Iteration 1076 / 1400) loss: 0.3629158728153854\n",
      "(Iteration 1081 / 1400) loss: 0.37537777873394423\n",
      "(Iteration 1086 / 1400) loss: 0.3775276385070972\n",
      "(Iteration 1091 / 1400) loss: 0.42662847752406563\n",
      "(Iteration 1096 / 1400) loss: 0.4349464780734324\n",
      "(Iteration 1101 / 1400) loss: 0.2487423892561123\n",
      "(Iteration 1106 / 1400) loss: 0.6878103706799683\n",
      "(Iteration 1111 / 1400) loss: 0.39182914875383346\n",
      "(Iteration 1116 / 1400) loss: 0.5110523317807584\n",
      "(Iteration 1121 / 1400) loss: 0.7076185880440348\n",
      "(Iteration 1126 / 1400) loss: 0.5596146039668031\n",
      "(Iteration 1131 / 1400) loss: 0.32949633377462456\n",
      "(Iteration 1136 / 1400) loss: 0.4544639219443855\n",
      "(Iteration 1141 / 1400) loss: 0.4608418530478822\n",
      "(Iteration 1146 / 1400) loss: 0.6511990844389698\n",
      "(Iteration 1151 / 1400) loss: 0.6198085597727653\n",
      "(Iteration 1156 / 1400) loss: 0.46225936044611726\n",
      "(Iteration 1161 / 1400) loss: 0.3935748441273954\n",
      "(Iteration 1166 / 1400) loss: 0.47951531203320613\n",
      "(Iteration 1171 / 1400) loss: 0.6041769522117542\n",
      "(Iteration 1176 / 1400) loss: 0.45505350169724346\n",
      "(Iteration 1181 / 1400) loss: 0.38977577532057095\n",
      "(Iteration 1186 / 1400) loss: 0.3785966908516953\n",
      "(Iteration 1191 / 1400) loss: 0.4454557031455925\n",
      "(Iteration 1196 / 1400) loss: 0.44160419940918116\n",
      "(Iteration 1201 / 1400) loss: 0.677072239187259\n",
      "(Iteration 1206 / 1400) loss: 0.4054599375697336\n",
      "(Iteration 1211 / 1400) loss: 0.3464283443989459\n",
      "(Iteration 1216 / 1400) loss: 0.765061378150047\n",
      "(Iteration 1221 / 1400) loss: 0.5096466954676534\n",
      "(Iteration 1226 / 1400) loss: 0.5052063285347282\n",
      "(Iteration 1231 / 1400) loss: 0.37311920865787696\n",
      "(Iteration 1236 / 1400) loss: 0.6150945484754409\n",
      "(Iteration 1241 / 1400) loss: 0.34183182615251695\n",
      "(Iteration 1246 / 1400) loss: 0.3471625051675815\n",
      "(Iteration 1251 / 1400) loss: 0.6339128413670371\n",
      "(Iteration 1256 / 1400) loss: 0.6385240719786848\n",
      "(Iteration 1261 / 1400) loss: 0.5051139354015534\n",
      "(Iteration 1266 / 1400) loss: 0.7697484446115914\n",
      "(Iteration 1271 / 1400) loss: 0.47598926267300035\n",
      "(Iteration 1276 / 1400) loss: 0.456619981492195\n",
      "(Iteration 1281 / 1400) loss: 0.4152327352988036\n",
      "(Iteration 1286 / 1400) loss: 0.6737415764713742\n",
      "(Iteration 1291 / 1400) loss: 0.41324278483979593\n",
      "(Iteration 1296 / 1400) loss: 0.4704536980098545\n",
      "(Iteration 1301 / 1400) loss: 0.3755668926602672\n",
      "(Iteration 1306 / 1400) loss: 0.5143157228967195\n",
      "(Iteration 1311 / 1400) loss: 0.22545345269170025\n",
      "(Iteration 1316 / 1400) loss: 0.33147404325224117\n",
      "(Iteration 1321 / 1400) loss: 0.4412656045201648\n",
      "(Iteration 1326 / 1400) loss: 0.34313154217222286\n",
      "(Iteration 1331 / 1400) loss: 0.5931938952158184\n",
      "(Iteration 1336 / 1400) loss: 0.5238507359989467\n",
      "(Iteration 1341 / 1400) loss: 0.692230253917477\n",
      "(Iteration 1346 / 1400) loss: 0.35742163893391\n",
      "(Iteration 1351 / 1400) loss: 0.441190829152976\n",
      "(Iteration 1356 / 1400) loss: 0.4103329822249275\n",
      "(Iteration 1361 / 1400) loss: 0.3379481488948189\n",
      "(Iteration 1366 / 1400) loss: 0.3828258429043767\n",
      "(Iteration 1371 / 1400) loss: 0.3954007001371949\n",
      "(Iteration 1376 / 1400) loss: 0.5040069169724777\n",
      "(Iteration 1381 / 1400) loss: 0.3556385669418844\n",
      "(Iteration 1386 / 1400) loss: 0.446289973788807\n",
      "(Iteration 1391 / 1400) loss: 0.34584899851940876\n",
      "(Iteration 1396 / 1400) loss: 0.5830227458862542\n",
      "(Epoch 2 / 2) Training Accuracy: 0.8706857142857143, Validation Accuracy: 0.8489407430150445\n"
     ]
    }
   ],
   "source": [
    "%reload_ext autoreload\n",
    "\n",
    "seed = 123\n",
    "np.random.seed(seed=seed)\n",
    "\n",
    "model = SmallConvolutionalNetwork()\n",
    "loss_f = cross_entropy()\n",
    "\n",
    "\n",
    "results = None\n",
    "#############################################################################\n",
    "# TODO: Use the train_net function you completed to train a network         #\n",
    "#############################################################################\n",
    "optimizer = Adam(model.net, 0.01)\n",
    "\n",
    "batch_size = 100 # 10000\n",
    "epochs = 2\n",
    "lr_decay = .6\n",
    "lr_decay_every = 1\n",
    "\n",
    "#############################################################################\n",
    "#                             END OF YOUR CODE                              #\n",
    "#############################################################################\n",
    "results = train_net(data_dict, model, loss_f, optimizer, batch_size, epochs, \n",
    "                    lr_decay, lr_decay_every, show_every=5, verbose=True) #Note: I changed show_every just for showing the results\n",
    "opt_params, loss_hist, train_acc_hist, val_acc_hist = results"
   ]
  },
  {
   "cell_type": "markdown",
   "metadata": {
    "id": "ns_sqkr6VNvG"
   },
   "source": [
    "Run the code below to generate the training plots."
   ]
  },
  {
   "cell_type": "code",
   "execution_count": null,
   "metadata": {
    "colab": {
     "base_uri": "https://localhost:8080/",
     "height": 705
    },
    "id": "ZKthoB6_VNvH",
    "outputId": "eaefc809-a096-48b3-ed09-ae579bb87b93"
   },
   "outputs": [
    {
     "data": {
      "image/png": "[encoded data removed]",
      "text/plain": [
       "<Figure size 1080x864 with 2 Axes>"
      ]
     },
     "metadata": {
      "needs_background": "light"
     },
     "output_type": "display_data"
    }
   ],
   "source": [
    "%reload_ext autoreload\n",
    "\n",
    "opt_params, loss_hist, train_acc_hist, val_acc_hist = results\n",
    "\n",
    "# Plot the learning curves\n",
    "plt.subplot(2, 1, 1)\n",
    "plt.title('Training loss')\n",
    "loss_hist_ = loss_hist[1::100]  # sparse the curve a bit\n",
    "plt.plot(loss_hist_, '-o')\n",
    "plt.xlabel('Iteration')\n",
    "\n",
    "plt.subplot(2, 1, 2)\n",
    "plt.title('Accuracy')\n",
    "plt.plot(train_acc_hist, '-o', label='Training')\n",
    "plt.plot(val_acc_hist, '-o', label='Validation')\n",
    "plt.xlabel('Epoch')\n",
    "plt.legend(loc='lower right')\n",
    "plt.gcf().set_size_inches(15, 12)\n",
    "\n",
    "plt.show()"
   ]
  },
  {
   "cell_type": "markdown",
   "metadata": {
    "id": "YLhArenqVNvH"
   },
   "source": [
    "### Visualizing Layers [5pts]\n",
    "\n",
    "An interesting finding from early research in convolutional networks was that the learned convolutions resembled filters used for things like edge detection. Complete the code below to visualize the filters in the first convolutional layer of your best model."
   ]
  },
  {
   "cell_type": "code",
   "execution_count": null,
   "metadata": {
    "colab": {
     "base_uri": "https://localhost:8080/",
     "height": 566
    },
    "id": "PjaZ-1cIVNvH",
    "outputId": "5208ca55-d5cd-4af3-aca5-c5bc65304f8a"
   },
   "outputs": [
    {
     "name": "stdout",
     "output_type": "stream",
     "text": [
      "Loading Params: conv1_w Shape: (5, 5, 3, 8)\n",
      "Loading Params: conv1_b Shape: (8,)\n",
      "Loading Params: conv2_w Shape: (3, 3, 8, 8)\n",
      "Loading Params: conv2_b Shape: (8,)\n",
      "Loading Params: fc1_w Shape: (288, 128)\n",
      "Loading Params: fc1_b Shape: (128,)\n",
      "Loading Params: fc2_w Shape: (128, 10)\n",
      "Loading Params: fc2_b Shape: (10,)\n"
     ]
    },
    {
     "name": "stderr",
     "output_type": "stream",
     "text": [
      "Clipping input data to the valid range for imshow with RGB data ([0..1] for floats or [0..255] for integers).\n"
     ]
    },
    {
     "name": "stdout",
     "output_type": "stream",
     "text": [
      "Test accuracy: 0.818\n"
     ]
    },
    {
     "data": {
      "text/plain": [
       "<matplotlib.image.AxesImage at 0x7f365eea8d50>"
      ]
     },
     "execution_count": 113,
     "metadata": {},
     "output_type": "execute_result"
    },
    {
     "data": {
      "image/png": "[encoded data removed]",
      "text/plain": [
       "<Figure size 720x576 with 1 Axes>"
      ]
     },
     "metadata": {
      "needs_background": "light"
     },
     "output_type": "display_data"
    }
   ],
   "source": [
    "im_array = None\n",
    "nrows, ncols = None, None\n",
    "\n",
    "###################################################\n",
    "# TODO: read the weights in the convolutional     #\n",
    "# layer and reshape them to a grid of images to   #\n",
    "# view with matplotlib.                           #\n",
    "###################################################\n",
    "# print test result (additional detail)\n",
    "model_test = SmallConvolutionalNetwork()\n",
    "model_test.net.load(opt_params.copy())\n",
    "test_acc = compute_acc(model_test, data[\"data_test\"][:1000], data[\"labels_test\"][:1000])\n",
    "print('Test accuracy:', test_acc)\n",
    "\n",
    "# get the im_array\n",
    "filters = opt_params.copy()[\"conv1_w\"]\n",
    "kernel_size = 5\n",
    "filter_arr = []\n",
    "for f_idx in range(8):\n",
    "    filter = (filters[:,:,:,f_idx]+1.0)/2\n",
    "    min_val = np.min(filter)-0.0002\n",
    "    max_val = np.max(filter)+0.0002\n",
    "    filter = min_val + (filter-min_val)/(max_val-min_val)\n",
    "    filter_arr.append(filter)\n",
    "    filter_arr.append(np.zeros((kernel_size,1,3)))\n",
    "im_array = np.concatenate([np.zeros((1,(kernel_size+1)*4, 3)),\n",
    "                           np.concatenate(filter_arr[:8], axis=1), \n",
    "                           np.zeros((1,(kernel_size+1)*4, 3)), \n",
    "                           np.concatenate(filter_arr[8:], axis=1),\n",
    "                           np.zeros((1,(kernel_size+1)*4, 3)),])\n",
    "###################################################\n",
    "#                END OF YOUR CODE                 #\n",
    "###################################################\n",
    "\n",
    "plt.imshow(im_array)"
   ]
  },
  {
   "cell_type": "markdown",
   "metadata": {
    "id": "-EVI68LdVNvI"
   },
   "source": [
    "#### Inline Question: Comment below on what kinds of filters you see. Include your response in your submission [5pts]"
   ]
  },
  {
   "cell_type": "markdown",
   "metadata": {
    "id": "XtzDFgkhVNvI"
   },
   "source": [
    "First the above image of filters was produced from a min-max-scaled zero-one-scaled version of the original filters. \n",
    "Observing the above image, there are two types of filter can be seen. The first one is filters with line pattern, as the crossed-line in top-first filter. The second one is filters that focus on some conners, as the top-third or bottom-first filters."
   ]
  },
  {
   "cell_type": "markdown",
   "metadata": {
    "id": "jcqRgF8QVNvI"
   },
   "source": [
    "# Submission\n",
    "\n",
    "Please prepare a PDF document `problem_2_solution.pdf` in the root directory of this repository with all plots and inline answers of your solution. Concretely, the document should contain the following items in strict order:\n",
    "1. Training loss / accuracy curves for CNN training\n",
    "2. Visualization of convolutional filters\n",
    "3. Answers to inline questions about convolutional filters\n",
    "\n",
    "Note that you still need to submit the jupyter notebook with all generated solutions. We will randomly pick submissions and check that the plots in the PDF and in the notebook are equivalent."
   ]
  },
  {
   "cell_type": "code",
   "execution_count": null,
   "metadata": {
    "id": "ORjz1P5eVNvJ"
   },
   "outputs": [],
   "source": []
  }
 ],
 "metadata": {
  "colab": {
   "collapsed_sections": [],
   "name": "Prob2_84acc.ipynb",
   "provenance": []
  },
  "kernelspec": {
   "display_name": "Python 3",
   "language": "python",
   "name": "python3"
  },
  "language_info": {
   "codemirror_mode": {
    "name": "ipython",
    "version": 3
   },
   "file_extension": ".py",
   "mimetype": "text/x-python",
   "name": "python",
   "nbconvert_exporter": "python",
   "pygments_lexer": "ipython3",
   "version": "3.8.9"
  }
 },
 "nbformat": 4,
 "nbformat_minor": 1
}
